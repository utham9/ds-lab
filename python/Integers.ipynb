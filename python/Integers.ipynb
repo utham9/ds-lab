{
 "cells": [
  {
   "cell_type": "markdown",
   "id": "8ec47c95",
   "metadata": {},
   "source": [
    "# Integers"
   ]
  },
  {
   "cell_type": "markdown",
   "id": "cae6218b",
   "metadata": {},
   "source": [
    " Declare an int value and store it in a variable. Check the type and print the id of the same."
   ]
  },
  {
   "cell_type": "markdown",
   "id": "f828a9f9",
   "metadata": {},
   "source": [
    "Take one int value between 0 - 256. \n",
    "Assign it to two different variables. \n",
    "Check the id of both the variables. It should come the same. Check why? "
   ]
  },
  {
   "cell_type": "markdown",
   "id": "efe82f85",
   "metadata": {},
   "source": [
    "Arithmetic Operations on integers \n",
    "Take two different integer values. \n",
    "Store them in two different variables. \n",
    "Do below operations on them:- \n",
    " 1. Find sum of both numbers \n",
    " 2. Find difference between them \n",
    " 3. Find the product of both numbers. \n",
    " 4. Find value after dividing first num with second number  \n",
    " 5. Find the remainder after dividing first number with second number  \n",
    " 6. Find the quotient after dividing first number with second number\n",
    " 7. Find the result of the first num to the power of the second number. \n"
   ]
  },
  {
   "cell_type": "markdown",
   "id": "fb09c351",
   "metadata": {},
   "source": [
    "Comparison Operators on integers \n",
    "Take two different integer values. \n",
    "Store them in two different variables. \n",
    "Do below operations on them:- \n",
    " 1. Compare se two numbers with below operator:- \n",
    " 2. Greater than, '>' \n",
    " 3. Smaller than, '<' \n",
    " 4. Greater than or equal to, '>=' \n",
    " 5. Less than or equal to, '<=' \n",
    "Observe their output(return type should be boolean) \n"
   ]
  },
  {
   "cell_type": "markdown",
   "id": "f9d27cff",
   "metadata": {},
   "source": [
    "Equality Operator \n",
    "1. Take two different integer values. \n",
    "2. Store them in two different variables. \n",
    "3. Equate them using equality operators (==, !=) \n",
    "4. Observe the output(return type should be boolean) \n"
   ]
  },
  {
   "cell_type": "code",
   "execution_count": 4,
   "id": "c7be5521",
   "metadata": {},
   "outputs": [
    {
     "name": "stdout",
     "output_type": "stream",
     "text": [
      "20\n",
      "10\n",
      "False\n"
     ]
    }
   ],
   "source": [
    "#Logical operators \n",
    "#Observe the output of below code\n",
    "#Cross check the output manually \n",
    "print(10 and 20) \n",
    "#----------------------------------------->Output is 20 print(0 and 20) \n",
    "#----------------------------------------->Output is 0 print(20 and 0) \n",
    "#----------------------------------------->Output is 0 print(0 and 0) \n",
    "#----------------------------------------->Output is 0 \n",
    "print(10 or 20) \n",
    "#----------------------------------------->Output is 10 print(0 or 20) \n",
    "#----------------------------------------->Output is 20 print(20 or 0) \n",
    "#----------------------------------------->Output is 20 print(0 or 0) \n",
    "#----------------------------------------->Output is 0 \n",
    "print(not 10) \n",
    "#----------------------------------------->Output is False print(not 0) \n",
    "#----------------------------------------->Output is True \n"
   ]
  },
  {
   "cell_type": "markdown",
   "id": "facb11f5",
   "metadata": {},
   "source": [
    "### Bitwise Operators \n",
    "Do below operations on the values provided below:- \n",
    "1. Bitwise and(&) -----------------------------------------> 10, 20 -------> Output is 0 \n",
    "2. Bitwise or(|) -----------------------------------------> 10, 20 -------> Output is 30 \n",
    "3. Bitwise(^) -----------------------------------------> 10, 20 -------> Output is 30 \n",
    "4. Bitwise negation(~) ------------------------------------> 10 -------> Output is -11 \n",
    "5. Bitwise left shift ------------------------------------> 10,2 -------> Output is 40 \n",
    "6. Bitwise right shift ------------------------------------> 10,2 -------> Output is 2 \n",
    "#Cross check the output manually \n"
   ]
  },
  {
   "cell_type": "markdown",
   "id": "52ff4779",
   "metadata": {},
   "source": [
    "What is the output of expression inside print statement. Cross check before running the program.\n",
    "\n",
    "`a = 10 `\n",
    "`b = 10 `\n",
    "\n",
    "`print(a is b) #True or False? `\n",
    "\n",
    "`print(a is not b) #True or False? `\n",
    "\n",
    "`a = 1000 `\n",
    "\n",
    "`b = 1000 `\n",
    "\n",
    "`print(a is b) #True or False? `\n",
    "\n",
    "`print(a is not b) #True or False?`\n"
   ]
  },
  {
   "cell_type": "markdown",
   "id": "b328aec7",
   "metadata": {},
   "source": [
    "What is the output of expression inside print statement. Cross check before running the program. \n",
    "print(10+(10*32)//2**5&20+(~(-10))<<2) "
   ]
  },
  {
   "cell_type": "markdown",
   "id": "05a4e638",
   "metadata": {},
   "source": [
    "Q. Membership operation \n",
    "in, not in are two membership operators and it returns boolean value \n",
    "`print('2' in 'Python2.7.8') `\n",
    "\n",
    "`print(10 in [10,10.20,10+20j,'Python'])` \n",
    "\n",
    "`print(10 in (10,10.20,10+20j,'Python')) `\n",
    "\n",
    "`print(2 in {1,2,3}) `\n",
    "\n",
    "`print(3 in {1:100, 2:200, 3:300}) `\n",
    "\n",
    "`print(10 in range(20)) `"
   ]
  },
  {
   "cell_type": "markdown",
   "id": "c8395ed3",
   "metadata": {},
   "source": [
    " An integer can be represented in binary, octal or hexadecimal form. Declare one binary, one octal and one hexadecimal value and store them in three different variables. \n",
    "Convert 9876 to its binary, octal and hexadecimal equivalent and print their corresponding value. \n"
   ]
  },
  {
   "cell_type": "code",
   "execution_count": null,
   "id": "aa97e2c9",
   "metadata": {},
   "outputs": [],
   "source": []
  },
  {
   "cell_type": "markdown",
   "id": "d16566fb",
   "metadata": {},
   "source": [
    "What will be the output of following:- \n",
    "a = 0b1010000 \n",
    "print(a) \n",
    "b = 0o7436 \n",
    "print(b) \n",
    "c = 0xfade \n",
    "print(c) \n",
    "print(bin(80))\n",
    "print(oct(3870)) print(hex(64222)) print(bin(0b1010000)) print(bin(0xfade)) print(oct(0xfade)) print(oct(0o7436)) print(hex(0b1010000)) print(hex(0xfade))"
   ]
  },
  {
   "cell_type": "code",
   "execution_count": null,
   "id": "99eebac5",
   "metadata": {},
   "outputs": [],
   "source": []
  },
  {
   "cell_type": "code",
   "execution_count": null,
   "id": "f04c12e4",
   "metadata": {},
   "outputs": [],
   "source": []
  },
  {
   "cell_type": "code",
   "execution_count": null,
   "id": "d6c76d26",
   "metadata": {},
   "outputs": [],
   "source": []
  },
  {
   "cell_type": "code",
   "execution_count": null,
   "id": "b4b50f0a",
   "metadata": {},
   "outputs": [],
   "source": []
  },
  {
   "cell_type": "code",
   "execution_count": null,
   "id": "9bb8a202",
   "metadata": {},
   "outputs": [],
   "source": []
  },
  {
   "cell_type": "code",
   "execution_count": null,
   "id": "af4aa8d8",
   "metadata": {},
   "outputs": [],
   "source": []
  },
  {
   "cell_type": "code",
   "execution_count": null,
   "id": "1c3d28ba",
   "metadata": {},
   "outputs": [],
   "source": []
  },
  {
   "cell_type": "code",
   "execution_count": null,
   "id": "e3badec9",
   "metadata": {},
   "outputs": [],
   "source": []
  },
  {
   "cell_type": "code",
   "execution_count": null,
   "id": "21d65372",
   "metadata": {},
   "outputs": [],
   "source": []
  },
  {
   "cell_type": "code",
   "execution_count": null,
   "id": "d8114594",
   "metadata": {},
   "outputs": [],
   "source": []
  }
 ],
 "metadata": {
  "kernelspec": {
   "display_name": "Python 3 (ipykernel)",
   "language": "python",
   "name": "python3"
  },
  "language_info": {
   "codemirror_mode": {
    "name": "ipython",
    "version": 3
   },
   "file_extension": ".py",
   "mimetype": "text/x-python",
   "name": "python",
   "nbconvert_exporter": "python",
   "pygments_lexer": "ipython3",
   "version": "3.9.16"
  }
 },
 "nbformat": 4,
 "nbformat_minor": 5
}
