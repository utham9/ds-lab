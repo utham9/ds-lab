{
 "cells": [
  {
   "cell_type": "markdown",
   "id": "22805e79",
   "metadata": {},
   "source": [
    "# Boolean"
   ]
  },
  {
   "cell_type": "markdown",
   "id": "944985f1",
   "metadata": {},
   "source": [
    "Declare a boolean value and store it in a variable.\n",
    "Check the type and print the id of the same."
   ]
  },
  {
   "cell_type": "code",
   "execution_count": 6,
   "id": "a4dad318",
   "metadata": {
    "scrolled": true
   },
   "outputs": [
    {
     "name": "stdout",
     "output_type": "stream",
     "text": [
      "<class 'bool'>\n",
      "4315079856\n"
     ]
    }
   ],
   "source": [
    "b = True\n",
    "print(type(b))\n",
    "print(id(b))"
   ]
  },
  {
   "cell_type": "markdown",
   "id": "dec4bc5e",
   "metadata": {},
   "source": [
    "Take one boolean value between 0 - 256.\n",
    "Assign it to two different variables.\n",
    "Check the id of both the variables. It should come the same. Check why?"
   ]
  },
  {
   "cell_type": "code",
   "execution_count": 9,
   "id": "df807280",
   "metadata": {},
   "outputs": [
    {
     "name": "stdout",
     "output_type": "stream",
     "text": [
      "4315079856\n",
      "4315079856\n"
     ]
    }
   ],
   "source": [
    "b = True\n",
    "c = True\n",
    "print(id(b))\n",
    "print(id(c))"
   ]
  },
  {
   "cell_type": "markdown",
   "id": "b4e871b5",
   "metadata": {},
   "source": [
    "Arithmetic Operations on boolean data\n",
    "Take two different boolean values.\n",
    "Store them in two different variables.\n",
    "Do below operations on them:-\n",
    "1. Find sum of both values\n",
    "2. Find difference between them\n",
    "3. Find the product of both.\n",
    "4. Find value after dividing first value with second value\n",
    "5. Find the remainder after dividing first value with second value\n",
    "6. Find the quotient after dividing first value with second value\n",
    "7. Find the result of first value to the power of second value."
   ]
  },
  {
   "cell_type": "code",
   "execution_count": 17,
   "id": "00ffe7ba",
   "metadata": {},
   "outputs": [
    {
     "name": "stdout",
     "output_type": "stream",
     "text": [
      "2\n",
      "0\n",
      "1\n",
      "1.0\n",
      "0\n",
      "1\n",
      "1\n"
     ]
    }
   ],
   "source": [
    "#Python treats True as '1' and False as '0'\n",
    "x= True\n",
    "y = True \n",
    "print(x+y) #Sum\n",
    "print(x-y) #Difference\n",
    "print(x*y) #Product\n",
    "print(x/y) #Division\n",
    "print(x%y) #Remainder (Modulus)\n",
    "print(x//y) #Quotient\n",
    "print(x**y) #Exponent"
   ]
  },
  {
   "cell_type": "markdown",
   "id": "113f7858",
   "metadata": {},
   "source": [
    "Comparison Operators on boolean values\n",
    "Take two different boolean values.\n",
    "Store them in two different variables.\n",
    "Do below operations on them:-\n",
    "Compare these two values with below operator:-\n",
    "1. Greater than, '>'\n",
    "1. less than, '<'\n",
    "1. Greater than or equal to, '>='\n",
    "1. Less than or equal to, '<='\n",
    "Observe their output(return type should be boolean)"
   ]
  },
  {
   "cell_type": "code",
   "execution_count": 24,
   "id": "aa98f7db",
   "metadata": {},
   "outputs": [
    {
     "name": "stdout",
     "output_type": "stream",
     "text": [
      "True\n",
      "False\n",
      "True\n",
      "False\n"
     ]
    }
   ],
   "source": [
    "# True is greater than False\n",
    "z=False\n",
    "print(x>z)\n",
    "print(x<z)\n",
    "print(x>=y)\n",
    "print(x<=z)"
   ]
  },
  {
   "cell_type": "markdown",
   "id": "92d478db",
   "metadata": {},
   "source": [
    "### Equality Operator\n",
    "Take two different boolean values.\n",
    "Store them in two different variables.\n",
    "Equate them using equality operators (==, !=)\n",
    "Observe the output(return type should be boolean)"
   ]
  },
  {
   "cell_type": "code",
   "execution_count": 26,
   "id": "07d9bc51",
   "metadata": {},
   "outputs": [
    {
     "name": "stdout",
     "output_type": "stream",
     "text": [
      "True\n",
      "False\n",
      "False\n",
      "False\n",
      "True\n",
      "True\n",
      "True\n",
      "False\n",
      "False\n",
      "True\n"
     ]
    }
   ],
   "source": [
    "#Logical operators\n",
    "#Observe the output of below code\n",
    "#Cross check the output manually\n",
    "print(True and True)\n",
    "#----------------------------------------->Output is True\n",
    "print(False and True)\n",
    "#----------------------------------------->Output is False\n",
    "print(True and False)\n",
    "#----------------------------------------->Output is False\n",
    "print(False and False)\n",
    "#----------------------------------------->Output is False\n",
    "print(True or True)\n",
    "#----------------------------------------->Output is True\n",
    "print(False or True)\n",
    "#----------------------------------------->Output is True\n",
    "print(True or False)\n",
    "#----------------------------------------->Output is True\n",
    "print(False or False)\n",
    "#----------------------------------------->Output is False\n",
    "print(not True)\n",
    "#----------------------------------------->Output is False\n",
    "print(not False)\n",
    "#----------------------------------------->Output is True"
   ]
  },
  {
   "cell_type": "code",
   "execution_count": 39,
   "id": "8194208d",
   "metadata": {},
   "outputs": [
    {
     "name": "stdout",
     "output_type": "stream",
     "text": [
      "True\n",
      "True\n",
      "False\n",
      "0\n",
      "0\n",
      "4\n"
     ]
    }
   ],
   "source": [
    "#Bitwise Operators\n",
    "#Do below operations on the values provided below:-\n",
    "#Bitwise and(&) --------------> True, True -------> Output is True\n",
    "print(True&True)\n",
    "#Bitwise or(|) --------------> True, False -------> Output is True\n",
    "print(True|True)\n",
    "#Bitwise(^) XOR --------------> True, False -------> Output is True\n",
    "print(True^True)\n",
    "#Bitwise negation(~) ---------> True -------> Output is -2\n",
    "print(True&~True)\n",
    "#Bitwise left shift ---------> True,2 -------> Output is 4\n",
    "print(True>>4)\n",
    "#Bitwise right shift ---------> True,2 -------> Output is 0\n",
    "print(True<<2)\n",
    "#Cross check the output manually"
   ]
  },
  {
   "cell_type": "code",
   "execution_count": 30,
   "id": "907e00ff",
   "metadata": {},
   "outputs": [
    {
     "name": "stdout",
     "output_type": "stream",
     "text": [
      "True\n",
      "False\n",
      "True\n",
      "False\n",
      "False\n",
      "True\n"
     ]
    }
   ],
   "source": [
    "#What is the output of expression inside the print statement. Cross\n",
    "#check before running the program.\n",
    "\n",
    "a = True\n",
    "b = True\n",
    "print(a is b) #True\n",
    "print(a is not b) #False\n",
    "\n",
    "a = False\n",
    "b = False\n",
    "print(a is b) #True\n",
    "print(a is not b) #False\n",
    "\n",
    "a = True\n",
    "b = False\n",
    "print(a is b) #False\n",
    "print(a is not b) #True"
   ]
  },
  {
   "cell_type": "code",
   "execution_count": 33,
   "id": "c95e8aed",
   "metadata": {},
   "outputs": [
    {
     "name": "stdout",
     "output_type": "stream",
     "text": [
      "True\n",
      "True\n",
      "True\n",
      "True\n",
      "True\n"
     ]
    }
   ],
   "source": [
    "#Membership operation\n",
    "#in, not in are two membership operators and it returns boolean value\n",
    "print(True in [10,10.20,10+20j,'Python',True])\n",
    "print(False in (10,10.20,10+20j,'Python', False))\n",
    "print(True in {1,2,3, True})\n",
    "print(True in {True:100, False:200, True:300})\n",
    "print(False in {True:100, False:200, True:300})"
   ]
  }
 ],
 "metadata": {
  "kernelspec": {
   "display_name": "Python 3 (ipykernel)",
   "language": "python",
   "name": "python3"
  },
  "language_info": {
   "codemirror_mode": {
    "name": "ipython",
    "version": 3
   },
   "file_extension": ".py",
   "mimetype": "text/x-python",
   "name": "python",
   "nbconvert_exporter": "python",
   "pygments_lexer": "ipython3",
   "version": "3.9.16"
  }
 },
 "nbformat": 4,
 "nbformat_minor": 5
}
